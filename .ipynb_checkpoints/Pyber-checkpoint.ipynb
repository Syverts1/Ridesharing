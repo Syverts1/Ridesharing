{
 "cells": [
  {
   "cell_type": "markdown",
   "metadata": {},
   "source": [
    "### Analysis\n",
    "\n",
    "1. Pyber has the more rides, drivers, and fare $$ coming from Urban areas\n",
    "\n",
    "2. Pyber has the least amount of rides, drivers, and fare $$ coming from Suburban areas\n",
    "\n",
    "3. Although Urban areas see more rides per city, they also see lower average fare prices. You can see this trend shown within the scatter plot. More information would be needed to see why that is. My first thought would be to look at information about the trip distance. I could see the average fares being lower in an Urban area because people may be travelling shorter distances\n"
   ]
  },
  {
   "cell_type": "code",
   "execution_count": 2,
   "metadata": {
    "collapsed": true
   },
   "outputs": [],
   "source": [
    "#Dependencies\n",
    "import os\n",
    "import seaborn as sns\n",
    "import pandas as pd\n",
    "import numpy as np\n",
    "import matplotlib.pyplot as plt"
   ]
  },
  {
   "cell_type": "code",
   "execution_count": 3,
   "metadata": {
    "collapsed": true
   },
   "outputs": [],
   "source": [
    "#set csv paths\n",
    "city_csv= os.path.join(\"Resources\",\"city_data.csv\")\n",
    "ride_csv= os.path.join(\"Resources\",\"ride_data.csv\")"
   ]
  },
  {
   "cell_type": "code",
   "execution_count": 4,
   "metadata": {},
   "outputs": [
    {
     "name": "stdout",
     "output_type": "stream",
     "text": [
      "             city  driver_count   type\n",
      "0      Kelseyland            63  Urban\n",
      "1      Nguyenbury             8  Urban\n",
      "2    East Douglas            12  Urban\n",
      "3   West Dawnfurt            34  Urban\n",
      "4  Rodriguezburgh            52  Urban\n",
      "          city                 date   fare        ride_id\n",
      "0     Sarabury  2016-01-16 13:49:27  38.35  5403689035038\n",
      "1    South Roy  2016-01-02 18:42:34  17.49  4036272335942\n",
      "2  Wiseborough  2016-01-21 17:35:29  44.18  3645042422587\n",
      "3  Spencertown  2016-07-31 14:53:22   6.87  2242596575892\n",
      "4   Nguyenbury  2016-07-09 04:42:44   6.28  1543057793673\n"
     ]
    }
   ],
   "source": [
    "#read csvs\n",
    "city_data = pd.read_csv(city_csv)\n",
    "print(city_data.head())\n",
    "\n",
    "ride_data= pd.read_csv(ride_csv)\n",
    "print(ride_data.head())"
   ]
  },
  {
   "cell_type": "code",
   "execution_count": 5,
   "metadata": {},
   "outputs": [
    {
     "data": {
      "text/plain": [
       "Index(['fare', 'ride_id'], dtype='object')"
      ]
     },
     "execution_count": 5,
     "metadata": {},
     "output_type": "execute_result"
    }
   ],
   "source": [
    "group_ride = ride_data.groupby(\"city\")\n",
    "\n",
    "#find average fare\n",
    "fare_mean = group_ride.mean()\n",
    "fare_mean.columns"
   ]
  },
  {
   "cell_type": "code",
   "execution_count": 6,
   "metadata": {},
   "outputs": [
    {
     "data": {
      "text/html": [
       "<div>\n",
       "<style>\n",
       "    .dataframe thead tr:only-child th {\n",
       "        text-align: right;\n",
       "    }\n",
       "\n",
       "    .dataframe thead th {\n",
       "        text-align: left;\n",
       "    }\n",
       "\n",
       "    .dataframe tbody tr th {\n",
       "        vertical-align: top;\n",
       "    }\n",
       "</style>\n",
       "<table border=\"1\" class=\"dataframe\">\n",
       "  <thead>\n",
       "    <tr style=\"text-align: right;\">\n",
       "      <th></th>\n",
       "      <th>Average Fare($) Per City</th>\n",
       "    </tr>\n",
       "    <tr>\n",
       "      <th>city</th>\n",
       "      <th></th>\n",
       "    </tr>\n",
       "  </thead>\n",
       "  <tbody>\n",
       "    <tr>\n",
       "      <th>Alvarezhaven</th>\n",
       "      <td>23.928710</td>\n",
       "    </tr>\n",
       "    <tr>\n",
       "      <th>Alyssaberg</th>\n",
       "      <td>20.609615</td>\n",
       "    </tr>\n",
       "    <tr>\n",
       "      <th>Anitamouth</th>\n",
       "      <td>37.315556</td>\n",
       "    </tr>\n",
       "    <tr>\n",
       "      <th>Antoniomouth</th>\n",
       "      <td>23.625000</td>\n",
       "    </tr>\n",
       "    <tr>\n",
       "      <th>Aprilchester</th>\n",
       "      <td>21.981579</td>\n",
       "    </tr>\n",
       "  </tbody>\n",
       "</table>\n",
       "</div>"
      ],
      "text/plain": [
       "              Average Fare($) Per City\n",
       "city                                  \n",
       "Alvarezhaven                 23.928710\n",
       "Alyssaberg                   20.609615\n",
       "Anitamouth                   37.315556\n",
       "Antoniomouth                 23.625000\n",
       "Aprilchester                 21.981579"
      ]
     },
     "execution_count": 6,
     "metadata": {},
     "output_type": "execute_result"
    }
   ],
   "source": [
    "#display average fare\n",
    "fare_mean = fare_mean.drop([\"ride_id\"],axis=1)\n",
    "fare_mean=fare_mean.rename(columns={'fare':'Average Fare($) Per City'})\n",
    "fare_mean.head()\n"
   ]
  },
  {
   "cell_type": "code",
   "execution_count": 7,
   "metadata": {},
   "outputs": [
    {
     "data": {
      "text/html": [
       "<div>\n",
       "<style>\n",
       "    .dataframe thead tr:only-child th {\n",
       "        text-align: right;\n",
       "    }\n",
       "\n",
       "    .dataframe thead th {\n",
       "        text-align: left;\n",
       "    }\n",
       "\n",
       "    .dataframe tbody tr th {\n",
       "        vertical-align: top;\n",
       "    }\n",
       "</style>\n",
       "<table border=\"1\" class=\"dataframe\">\n",
       "  <thead>\n",
       "    <tr style=\"text-align: right;\">\n",
       "      <th></th>\n",
       "      <th>Total Number of Rides Per City</th>\n",
       "    </tr>\n",
       "    <tr>\n",
       "      <th>city</th>\n",
       "      <th></th>\n",
       "    </tr>\n",
       "  </thead>\n",
       "  <tbody>\n",
       "    <tr>\n",
       "      <th>Alvarezhaven</th>\n",
       "      <td>31</td>\n",
       "    </tr>\n",
       "    <tr>\n",
       "      <th>Alyssaberg</th>\n",
       "      <td>26</td>\n",
       "    </tr>\n",
       "    <tr>\n",
       "      <th>Anitamouth</th>\n",
       "      <td>9</td>\n",
       "    </tr>\n",
       "    <tr>\n",
       "      <th>Antoniomouth</th>\n",
       "      <td>22</td>\n",
       "    </tr>\n",
       "    <tr>\n",
       "      <th>Aprilchester</th>\n",
       "      <td>19</td>\n",
       "    </tr>\n",
       "  </tbody>\n",
       "</table>\n",
       "</div>"
      ],
      "text/plain": [
       "              Total Number of Rides Per City\n",
       "city                                        \n",
       "Alvarezhaven                              31\n",
       "Alyssaberg                                26\n",
       "Anitamouth                                 9\n",
       "Antoniomouth                              22\n",
       "Aprilchester                              19"
      ]
     },
     "execution_count": 7,
     "metadata": {},
     "output_type": "execute_result"
    }
   ],
   "source": [
    "#calculate total # of rides\n",
    "ride_sum = group_ride.count()\n",
    "\n",
    "ride_sum = ride_sum.drop([\"ride_id\",\"fare\"],axis=1)\n",
    "ride_sum=ride_sum.rename(columns={\"date\":\"Total Number of Rides Per City\"})\n",
    "ride_sum.head()\n"
   ]
  },
  {
   "cell_type": "code",
   "execution_count": 8,
   "metadata": {},
   "outputs": [
    {
     "data": {
      "text/html": [
       "<div>\n",
       "<style>\n",
       "    .dataframe thead tr:only-child th {\n",
       "        text-align: right;\n",
       "    }\n",
       "\n",
       "    .dataframe thead th {\n",
       "        text-align: left;\n",
       "    }\n",
       "\n",
       "    .dataframe tbody tr th {\n",
       "        vertical-align: top;\n",
       "    }\n",
       "</style>\n",
       "<table border=\"1\" class=\"dataframe\">\n",
       "  <thead>\n",
       "    <tr style=\"text-align: right;\">\n",
       "      <th></th>\n",
       "      <th>city</th>\n",
       "      <th>Total Fare</th>\n",
       "    </tr>\n",
       "  </thead>\n",
       "  <tbody>\n",
       "    <tr>\n",
       "      <th>0</th>\n",
       "      <td>Alvarezhaven</td>\n",
       "      <td>741.79</td>\n",
       "    </tr>\n",
       "    <tr>\n",
       "      <th>1</th>\n",
       "      <td>Alyssaberg</td>\n",
       "      <td>535.85</td>\n",
       "    </tr>\n",
       "    <tr>\n",
       "      <th>2</th>\n",
       "      <td>Anitamouth</td>\n",
       "      <td>335.84</td>\n",
       "    </tr>\n",
       "    <tr>\n",
       "      <th>3</th>\n",
       "      <td>Antoniomouth</td>\n",
       "      <td>519.75</td>\n",
       "    </tr>\n",
       "    <tr>\n",
       "      <th>4</th>\n",
       "      <td>Aprilchester</td>\n",
       "      <td>417.65</td>\n",
       "    </tr>\n",
       "  </tbody>\n",
       "</table>\n",
       "</div>"
      ],
      "text/plain": [
       "           city  Total Fare\n",
       "0  Alvarezhaven      741.79\n",
       "1    Alyssaberg      535.85\n",
       "2    Anitamouth      335.84\n",
       "3  Antoniomouth      519.75\n",
       "4  Aprilchester      417.65"
      ]
     },
     "execution_count": 8,
     "metadata": {},
     "output_type": "execute_result"
    }
   ],
   "source": [
    "#calculate total fares (to be used in pie chart later on)\n",
    "fare_sum = group_ride.sum()\n",
    "\n",
    "fare_sum = fare_sum.drop([\"ride_id\"],axis=1)\n",
    "fare_sum = fare_sum.rename(columns={\"fare\":\"Total Fare\"})\n",
    "fare_sum = fare_sum.reset_index()\n",
    "fare_sum.head()"
   ]
  },
  {
   "cell_type": "code",
   "execution_count": 9,
   "metadata": {},
   "outputs": [
    {
     "data": {
      "text/html": [
       "<div>\n",
       "<style>\n",
       "    .dataframe thead tr:only-child th {\n",
       "        text-align: right;\n",
       "    }\n",
       "\n",
       "    .dataframe thead th {\n",
       "        text-align: left;\n",
       "    }\n",
       "\n",
       "    .dataframe tbody tr th {\n",
       "        vertical-align: top;\n",
       "    }\n",
       "</style>\n",
       "<table border=\"1\" class=\"dataframe\">\n",
       "  <thead>\n",
       "    <tr style=\"text-align: right;\">\n",
       "      <th></th>\n",
       "      <th>city</th>\n",
       "      <th>Total Number of Drivers Per City</th>\n",
       "      <th>type</th>\n",
       "    </tr>\n",
       "  </thead>\n",
       "  <tbody>\n",
       "    <tr>\n",
       "      <th>0</th>\n",
       "      <td>Alvarezhaven</td>\n",
       "      <td>21</td>\n",
       "      <td>Urban</td>\n",
       "    </tr>\n",
       "    <tr>\n",
       "      <th>1</th>\n",
       "      <td>Alyssaberg</td>\n",
       "      <td>67</td>\n",
       "      <td>Urban</td>\n",
       "    </tr>\n",
       "    <tr>\n",
       "      <th>2</th>\n",
       "      <td>Anitamouth</td>\n",
       "      <td>16</td>\n",
       "      <td>Suburban</td>\n",
       "    </tr>\n",
       "    <tr>\n",
       "      <th>3</th>\n",
       "      <td>Antoniomouth</td>\n",
       "      <td>21</td>\n",
       "      <td>Urban</td>\n",
       "    </tr>\n",
       "    <tr>\n",
       "      <th>4</th>\n",
       "      <td>Aprilchester</td>\n",
       "      <td>49</td>\n",
       "      <td>Urban</td>\n",
       "    </tr>\n",
       "  </tbody>\n",
       "</table>\n",
       "</div>"
      ],
      "text/plain": [
       "           city  Total Number of Drivers Per City      type\n",
       "0  Alvarezhaven                                21     Urban\n",
       "1    Alyssaberg                                67     Urban\n",
       "2    Anitamouth                                16  Suburban\n",
       "3  Antoniomouth                                21     Urban\n",
       "4  Aprilchester                                49     Urban"
      ]
     },
     "execution_count": 9,
     "metadata": {},
     "output_type": "execute_result"
    }
   ],
   "source": [
    "#create a new table, showing the total # of drivers per city\n",
    "city_grouping = city_data.groupby(\"city\").sum()\n",
    "city_grouping= city_grouping.reset_index()\n",
    "city_drop = city_data.drop_duplicates(subset=[\"city\"])\n",
    "city_drop = city_drop.drop([\"driver_count\"],axis=1)\n",
    "\n",
    "city_group = city_grouping.merge(city_drop, how=\"left\", on='city')\n",
    "\n",
    "city_group=city_group.rename(columns={\"driver_count\":\"Total Number of Drivers Per City\"})\n",
    "\n",
    "city_group.head()\n"
   ]
  },
  {
   "cell_type": "code",
   "execution_count": 10,
   "metadata": {},
   "outputs": [
    {
     "data": {
      "text/html": [
       "<div>\n",
       "<style>\n",
       "    .dataframe thead tr:only-child th {\n",
       "        text-align: right;\n",
       "    }\n",
       "\n",
       "    .dataframe thead th {\n",
       "        text-align: left;\n",
       "    }\n",
       "\n",
       "    .dataframe tbody tr th {\n",
       "        vertical-align: top;\n",
       "    }\n",
       "</style>\n",
       "<table border=\"1\" class=\"dataframe\">\n",
       "  <thead>\n",
       "    <tr style=\"text-align: right;\">\n",
       "      <th></th>\n",
       "      <th>city</th>\n",
       "      <th>Average Fare($) Per City</th>\n",
       "      <th>Total Number of Rides Per City</th>\n",
       "      <th>Total Number of Drivers Per City</th>\n",
       "      <th>type</th>\n",
       "      <th>Total Fare</th>\n",
       "    </tr>\n",
       "  </thead>\n",
       "  <tbody>\n",
       "    <tr>\n",
       "      <th>0</th>\n",
       "      <td>Alvarezhaven</td>\n",
       "      <td>23.928710</td>\n",
       "      <td>31</td>\n",
       "      <td>21</td>\n",
       "      <td>Urban</td>\n",
       "      <td>741.79</td>\n",
       "    </tr>\n",
       "    <tr>\n",
       "      <th>1</th>\n",
       "      <td>Alyssaberg</td>\n",
       "      <td>20.609615</td>\n",
       "      <td>26</td>\n",
       "      <td>67</td>\n",
       "      <td>Urban</td>\n",
       "      <td>535.85</td>\n",
       "    </tr>\n",
       "    <tr>\n",
       "      <th>2</th>\n",
       "      <td>Anitamouth</td>\n",
       "      <td>37.315556</td>\n",
       "      <td>9</td>\n",
       "      <td>16</td>\n",
       "      <td>Suburban</td>\n",
       "      <td>335.84</td>\n",
       "    </tr>\n",
       "    <tr>\n",
       "      <th>3</th>\n",
       "      <td>Antoniomouth</td>\n",
       "      <td>23.625000</td>\n",
       "      <td>22</td>\n",
       "      <td>21</td>\n",
       "      <td>Urban</td>\n",
       "      <td>519.75</td>\n",
       "    </tr>\n",
       "    <tr>\n",
       "      <th>4</th>\n",
       "      <td>Aprilchester</td>\n",
       "      <td>21.981579</td>\n",
       "      <td>19</td>\n",
       "      <td>49</td>\n",
       "      <td>Urban</td>\n",
       "      <td>417.65</td>\n",
       "    </tr>\n",
       "  </tbody>\n",
       "</table>\n",
       "</div>"
      ],
      "text/plain": [
       "           city  Average Fare($) Per City  Total Number of Rides Per City  \\\n",
       "0  Alvarezhaven                 23.928710                              31   \n",
       "1    Alyssaberg                 20.609615                              26   \n",
       "2    Anitamouth                 37.315556                               9   \n",
       "3  Antoniomouth                 23.625000                              22   \n",
       "4  Aprilchester                 21.981579                              19   \n",
       "\n",
       "   Total Number of Drivers Per City      type  Total Fare  \n",
       "0                                21     Urban      741.79  \n",
       "1                                67     Urban      535.85  \n",
       "2                                16  Suburban      335.84  \n",
       "3                                21     Urban      519.75  \n",
       "4                                49     Urban      417.65  "
      ]
     },
     "execution_count": 10,
     "metadata": {},
     "output_type": "execute_result"
    }
   ],
   "source": [
    "#merge calculated tables into one place\n",
    "bubble_table = pd.merge(fare_mean, ride_sum, left_index=True, right_index=True).reset_index()\n",
    "\n",
    "bubble_table= bubble_table.merge(city_group,how='left',on=\"city\")\n",
    "bubble_table = bubble_table.merge(fare_sum, how=\"left\",on=\"city\")\n",
    "bubble_table.head()\n",
    "#bubble_table.to_csv(path_or_buf=\"bubble_table.csv\")"
   ]
  },
  {
   "cell_type": "code",
   "execution_count": 11,
   "metadata": {},
   "outputs": [
    {
     "name": "stdout",
     "output_type": "stream",
     "text": [
      "           city  Average Fare($) Per City  Total Number of Rides Per City  \\\n",
      "0  Alvarezhaven                 23.928710                              31   \n",
      "1    Alyssaberg                 20.609615                              26   \n",
      "3  Antoniomouth                 23.625000                              22   \n",
      "4  Aprilchester                 21.981579                              19   \n",
      "5    Arnoldview                 25.106452                              31   \n",
      "\n",
      "   Total Number of Drivers Per City   type  Total Fare  \n",
      "0                                21  Urban      741.79  \n",
      "1                                67  Urban      535.85  \n",
      "3                                21  Urban      519.75  \n",
      "4                                49  Urban      417.65  \n",
      "5                                41  Urban      778.30  \n",
      "            city  Average Fare($) Per City  Total Number of Rides Per City  \\\n",
      "2     Anitamouth                 37.315556                               9   \n",
      "6   Campbellport                 33.711333                              15   \n",
      "7    Carrollbury                 36.606000                              10   \n",
      "9      Clarkstad                 31.051667                              12   \n",
      "10   Conwaymouth                 34.591818                              11   \n",
      "\n",
      "    Total Number of Drivers Per City      type  Total Fare  \n",
      "2                                 16  Suburban      335.84  \n",
      "6                                 26  Suburban      505.67  \n",
      "7                                  4  Suburban      366.06  \n",
      "9                                 21  Suburban      372.62  \n",
      "10                                18  Suburban      380.51  \n",
      "              city  Average Fare($) Per City  Total Number of Rides Per City  \\\n",
      "17     East Leslie                 33.660909                              11   \n",
      "18    East Stephen                 39.053000                              10   \n",
      "19   East Troybury                 33.244286                               7   \n",
      "21        Erikport                 30.043750                               8   \n",
      "25  Hernandezshire                 32.002222                               9   \n",
      "\n",
      "    Total Number of Drivers Per City   type  Total Fare  \n",
      "17                                 9  Rural      370.27  \n",
      "18                                 6  Rural      390.53  \n",
      "19                                 3  Rural      232.71  \n",
      "21                                 3  Rural      240.35  \n",
      "25                                10  Rural      288.02  \n"
     ]
    }
   ],
   "source": [
    "#create subchart of urban rides\n",
    "bubble_urban = bubble_table.loc[bubble_table[\"type\"] == \"Urban\"]\n",
    "print(bubble_urban.head())\n",
    "\n",
    "#create subchart of suburban rides\n",
    "bubble_suburban = bubble_table.loc[bubble_table[\"type\"] == \"Suburban\"]\n",
    "print(bubble_suburban.head())\n",
    "\n",
    "#create subchart of rural rides\n",
    "bubble_rural = bubble_table.loc[bubble_table[\"type\"] == \"Rural\"]\n",
    "print(bubble_rural.head())"
   ]
  },
  {
   "cell_type": "code",
   "execution_count": 12,
   "metadata": {},
   "outputs": [
    {
     "data": {
      "image/png": "[encoded data removed]",
      "text/plain": [
       "<matplotlib.figure.Figure at 0x23e137b10f0>"
      ]
     },
     "metadata": {},
     "output_type": "display_data"
    }
   ],
   "source": [
    "#plot scatter of urban rides\n",
    "plt.scatter(bubble_urban[\"Total Number of Rides Per City\"],bubble_urban[\"Average Fare($) Per City\"],\n",
    "            bubble_urban[\"Total Number of Drivers Per City\"], c=\"xkcd:salmon\", label=\"Urban\",linewidths=.7,edgecolors=\"black\")\n",
    "\n",
    "#plot scatter of suburban rides\n",
    "plt.scatter(bubble_suburban[\"Total Number of Rides Per City\"],bubble_suburban[\"Average Fare($) Per City\"],\n",
    "            bubble_suburban[\"Total Number of Drivers Per City\"], c=\"xkcd:sky blue\", label=\"Suburban\",linewidths=.7,edgecolors=\"black\")\n",
    "\n",
    "#plot scatter of rural rides\n",
    "plt.scatter(bubble_rural[\"Total Number of Rides Per City\"],bubble_rural[\"Average Fare($) Per City\"],\n",
    "            bubble_rural[\"Total Number of Drivers Per City\"], c=\"gold\", label=\"Rural\",linewidths=.7,edgecolors=\"black\")\n",
    "\n",
    "#prettify\n",
    "plt.xlabel(\"Total Number of Rides Per City\")\n",
    "plt.ylabel(\"Average Fare($) Per City\")\n",
    "plt.legend()\n",
    "plt.title(\"Pyber Ride Sharing Data(2016)\")\n",
    "plt.text(38,35,\"Note: Circle size correlates with driver count per city\")\n",
    "plt.show()"
   ]
  },
  {
   "cell_type": "code",
   "execution_count": 28,
   "metadata": {},
   "outputs": [
    {
     "data": {
      "text/html": [
       "<div>\n",
       "<style>\n",
       "    .dataframe thead tr:only-child th {\n",
       "        text-align: right;\n",
       "    }\n",
       "\n",
       "    .dataframe thead th {\n",
       "        text-align: left;\n",
       "    }\n",
       "\n",
       "    .dataframe tbody tr th {\n",
       "        vertical-align: top;\n",
       "    }\n",
       "</style>\n",
       "<table border=\"1\" class=\"dataframe\">\n",
       "  <thead>\n",
       "    <tr style=\"text-align: right;\">\n",
       "      <th></th>\n",
       "      <th>City Type</th>\n",
       "      <th>Total Number of Rides Per City</th>\n",
       "      <th>Total Number of Drivers Per City</th>\n",
       "      <th>Total Fare</th>\n",
       "      <th>% of Total Drivers</th>\n",
       "      <th>% of Total Fares</th>\n",
       "      <th>% of Total Rides</th>\n",
       "    </tr>\n",
       "  </thead>\n",
       "  <tbody>\n",
       "    <tr>\n",
       "      <th>0</th>\n",
       "      <td>Rural</td>\n",
       "      <td>125</td>\n",
       "      <td>104</td>\n",
       "      <td>4255.09</td>\n",
       "      <td>3.11</td>\n",
       "      <td>6.68</td>\n",
       "      <td>5.26</td>\n",
       "    </tr>\n",
       "    <tr>\n",
       "      <th>1</th>\n",
       "      <td>Suburban</td>\n",
       "      <td>625</td>\n",
       "      <td>638</td>\n",
       "      <td>19317.88</td>\n",
       "      <td>19.05</td>\n",
       "      <td>30.35</td>\n",
       "      <td>26.32</td>\n",
       "    </tr>\n",
       "    <tr>\n",
       "      <th>2</th>\n",
       "      <td>Urban</td>\n",
       "      <td>1625</td>\n",
       "      <td>2607</td>\n",
       "      <td>40078.34</td>\n",
       "      <td>77.84</td>\n",
       "      <td>62.97</td>\n",
       "      <td>68.42</td>\n",
       "    </tr>\n",
       "  </tbody>\n",
       "</table>\n",
       "</div>"
      ],
      "text/plain": [
       "  City Type  Total Number of Rides Per City  Total Number of Drivers Per City  \\\n",
       "0     Rural                             125                               104   \n",
       "1  Suburban                             625                               638   \n",
       "2     Urban                            1625                              2607   \n",
       "\n",
       "   Total Fare  % of Total Drivers  % of Total Fares  % of Total Rides  \n",
       "0     4255.09                3.11              6.68              5.26  \n",
       "1    19317.88               19.05             30.35             26.32  \n",
       "2    40078.34               77.84             62.97             68.42  "
      ]
     },
     "execution_count": 28,
     "metadata": {},
     "output_type": "execute_result"
    }
   ],
   "source": [
    "#% calculations\n",
    "perc_table = bubble_table.drop([\"Average Fare($) Per City\"],axis=1)\n",
    "perc_group = perc_table.groupby(\"type\").sum()\n",
    "#perc_group.head()\n",
    "perc_calc = round((perc_group.iloc[:,0:3]/perc_group.iloc[:,0:3].sum())*100,2)\n",
    "#print(perc_calc)\n",
    "\n",
    "\n",
    "#add calculations to new perc_table\n",
    "perc_table = perc_group.assign(perc_fares=perc_calc[\"Total Fare\"],perc_rides=perc_calc[\"Total Number of Rides Per City\"],perc_drivers=perc_calc[\"Total Number of Drivers Per City\"])\n",
    "perc_table = perc_table.reset_index()\n",
    "perc_table = perc_table.rename(columns={\"perc_drivers\":\"% of Total Drivers\",\n",
    "                                        \"perc_fares\":\"% of Total Fares\",\n",
    "                                        \"perc_rides\":\"% of Total Rides\",\n",
    "                                        \"type\":\"City Type\"})\n",
    "\n",
    "perc_table.head()"
   ]
  },
  {
   "cell_type": "code",
   "execution_count": 31,
   "metadata": {},
   "outputs": [
    {
     "data": {
      "image/png": "[encoded data removed]",
      "text/plain": [
       "<matplotlib.figure.Figure at 0x23e1431c3c8>"
      ]
     },
     "metadata": {},
     "output_type": "display_data"
    }
   ],
   "source": [
    "plt.pie(perc_table[\"% of Total Fares\"], explode=[0,0,.2], labels=perc_table[\"City Type\"], \n",
    "        colors=[\"gold\",\"xkcd:sky blue\",\"xkcd:salmon\"],autopct='%1.1f%%',\n",
    "        shadow=True,startangle=90)\n",
    "plt.title(\"% of Total Fares by City Type\")\n",
    "plt.show()"
   ]
  },
  {
   "cell_type": "code",
   "execution_count": 30,
   "metadata": {},
   "outputs": [
    {
     "data": {
      "image/png": "[encoded data removed]",
      "text/plain": [
       "<matplotlib.figure.Figure at 0x23e142cb048>"
      ]
     },
     "metadata": {},
     "output_type": "display_data"
    }
   ],
   "source": [
    "plt.pie(perc_table[\"% of Total Rides\"], explode=[0,0,.2], labels=perc_table[\"City Type\"], \n",
    "        colors=[\"gold\",\"xkcd:sky blue\",\"xkcd:salmon\"],autopct='%1.1f%%',\n",
    "        shadow=True, startangle=90)\n",
    "plt.title(\"% of Total Rides by City Type\")\n",
    "plt.show()"
   ]
  },
  {
   "cell_type": "code",
   "execution_count": 22,
   "metadata": {},
   "outputs": [
    {
     "data": {
      "image/png": "[encoded data removed]",
      "text/plain": [
       "<matplotlib.figure.Figure at 0x23e13ab1ba8>"
      ]
     },
     "metadata": {},
     "output_type": "display_data"
    }
   ],
   "source": [
    "plt.pie(perc_table[\"% of Total Drivers\"], explode=[0,0,.2], labels=perc_table[\"City Type\"], \n",
    "        colors=[\"gold\",\"xkcd:sky blue\",\"xkcd:salmon\"],autopct='%1.1f%%',\n",
    "        shadow=True, startangle=90)\n",
    "plt.title(\"% of Total Drivers by City Type\")\n",
    "plt.show()"
   ]
  },
  {
   "cell_type": "code",
   "execution_count": null,
   "metadata": {
    "collapsed": true
   },
   "outputs": [],
   "source": []
  }
 ],
 "metadata": {
  "kernelspec": {
   "display_name": "Python 3",
   "language": "python",
   "name": "python3"
  },
  "language_info": {
   "codemirror_mode": {
    "name": "ipython",
    "version": 3
   },
   "file_extension": ".py",
   "mimetype": "text/x-python",
   "name": "python",
   "nbconvert_exporter": "python",
   "pygments_lexer": "ipython3",
   "version": "3.6.3"
  }
 },
 "nbformat": 4,
 "nbformat_minor": 2
}
