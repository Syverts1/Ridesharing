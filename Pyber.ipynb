{
 "cells": [
  {
   "cell_type": "code",
   "execution_count": 1,
   "metadata": {
    "collapsed": true
   },
   "outputs": [],
   "source": [
    "import os\n",
    "import seaborn as sns\n",
    "import pandas as pd\n",
    "import numpy as np\n",
    "import matplotlib.pyplot as plt"
   ]
  },
  {
   "cell_type": "code",
   "execution_count": 2,
   "metadata": {
    "collapsed": true
   },
   "outputs": [],
   "source": [
    "city_csv= os.path.join(\"Resources\",\"city_data.csv\")\n",
    "ride_csv= os.path.join(\"Resources\",\"ride_data.csv\")"
   ]
  },
  {
   "cell_type": "code",
   "execution_count": 6,
   "metadata": {},
   "outputs": [
    {
     "name": "stdout",
     "output_type": "stream",
     "text": [
      "             city  driver_count   type\n",
      "0      Kelseyland            63  Urban\n",
      "1      Nguyenbury             8  Urban\n",
      "2    East Douglas            12  Urban\n",
      "3   West Dawnfurt            34  Urban\n",
      "4  Rodriguezburgh            52  Urban\n",
      "          city                 date   fare        ride_id\n",
      "0     Sarabury  2016-01-16 13:49:27  38.35  5403689035038\n",
      "1    South Roy  2016-01-02 18:42:34  17.49  4036272335942\n",
      "2  Wiseborough  2016-01-21 17:35:29  44.18  3645042422587\n",
      "3  Spencertown  2016-07-31 14:53:22   6.87  2242596575892\n",
      "4   Nguyenbury  2016-07-09 04:42:44   6.28  1543057793673\n"
     ]
    }
   ],
   "source": [
    "city_data = pd.read_csv(city_csv)\n",
    "print(city_data.head())\n",
    "\n",
    "ride_data= pd.read_csv(ride_csv)\n",
    "print(ride_data.head())"
   ]
  },
  {
   "cell_type": "code",
   "execution_count": 35,
   "metadata": {},
   "outputs": [
    {
     "data": {
      "text/plain": [
       "Index(['fare', 'ride_id'], dtype='object')"
      ]
     },
     "execution_count": 35,
     "metadata": {},
     "output_type": "execute_result"
    }
   ],
   "source": [
    "group_ride = ride_data.groupby(\"city\")\n",
    "\n",
    "#find average fare\n",
    "fare_mean = group_ride.mean()\n",
    "fare_mean.columns"
   ]
  },
  {
   "cell_type": "code",
   "execution_count": 36,
   "metadata": {},
   "outputs": [
    {
     "data": {
      "text/html": [
       "<div>\n",
       "<style>\n",
       "    .dataframe thead tr:only-child th {\n",
       "        text-align: right;\n",
       "    }\n",
       "\n",
       "    .dataframe thead th {\n",
       "        text-align: left;\n",
       "    }\n",
       "\n",
       "    .dataframe tbody tr th {\n",
       "        vertical-align: top;\n",
       "    }\n",
       "</style>\n",
       "<table border=\"1\" class=\"dataframe\">\n",
       "  <thead>\n",
       "    <tr style=\"text-align: right;\">\n",
       "      <th></th>\n",
       "      <th>Average Fare($) Per City</th>\n",
       "    </tr>\n",
       "    <tr>\n",
       "      <th>city</th>\n",
       "      <th></th>\n",
       "    </tr>\n",
       "  </thead>\n",
       "  <tbody>\n",
       "    <tr>\n",
       "      <th>Alvarezhaven</th>\n",
       "      <td>23.928710</td>\n",
       "    </tr>\n",
       "    <tr>\n",
       "      <th>Alyssaberg</th>\n",
       "      <td>20.609615</td>\n",
       "    </tr>\n",
       "    <tr>\n",
       "      <th>Anitamouth</th>\n",
       "      <td>37.315556</td>\n",
       "    </tr>\n",
       "    <tr>\n",
       "      <th>Antoniomouth</th>\n",
       "      <td>23.625000</td>\n",
       "    </tr>\n",
       "    <tr>\n",
       "      <th>Aprilchester</th>\n",
       "      <td>21.981579</td>\n",
       "    </tr>\n",
       "  </tbody>\n",
       "</table>\n",
       "</div>"
      ],
      "text/plain": [
       "              Average Fare($) Per City\n",
       "city                                  \n",
       "Alvarezhaven                 23.928710\n",
       "Alyssaberg                   20.609615\n",
       "Anitamouth                   37.315556\n",
       "Antoniomouth                 23.625000\n",
       "Aprilchester                 21.981579"
      ]
     },
     "execution_count": 36,
     "metadata": {},
     "output_type": "execute_result"
    }
   ],
   "source": [
    "#display average fare\n",
    "fare_mean = fare_mean.drop([\"ride_id\"],axis=1)\n",
    "fare_mean=fare_mean.rename(columns={'fare':'Average Fare($) Per City'})\n",
    "fare_mean.head()"
   ]
  },
  {
   "cell_type": "code",
   "execution_count": 40,
   "metadata": {},
   "outputs": [
    {
     "data": {
      "text/html": [
       "<div>\n",
       "<style>\n",
       "    .dataframe thead tr:only-child th {\n",
       "        text-align: right;\n",
       "    }\n",
       "\n",
       "    .dataframe thead th {\n",
       "        text-align: left;\n",
       "    }\n",
       "\n",
       "    .dataframe tbody tr th {\n",
       "        vertical-align: top;\n",
       "    }\n",
       "</style>\n",
       "<table border=\"1\" class=\"dataframe\">\n",
       "  <thead>\n",
       "    <tr style=\"text-align: right;\">\n",
       "      <th></th>\n",
       "      <th>Total Number of Rides Per City</th>\n",
       "    </tr>\n",
       "    <tr>\n",
       "      <th>city</th>\n",
       "      <th></th>\n",
       "    </tr>\n",
       "  </thead>\n",
       "  <tbody>\n",
       "    <tr>\n",
       "      <th>Alvarezhaven</th>\n",
       "      <td>31</td>\n",
       "    </tr>\n",
       "    <tr>\n",
       "      <th>Alyssaberg</th>\n",
       "      <td>26</td>\n",
       "    </tr>\n",
       "    <tr>\n",
       "      <th>Anitamouth</th>\n",
       "      <td>9</td>\n",
       "    </tr>\n",
       "    <tr>\n",
       "      <th>Antoniomouth</th>\n",
       "      <td>22</td>\n",
       "    </tr>\n",
       "    <tr>\n",
       "      <th>Aprilchester</th>\n",
       "      <td>19</td>\n",
       "    </tr>\n",
       "  </tbody>\n",
       "</table>\n",
       "</div>"
      ],
      "text/plain": [
       "              Total Number of Rides Per City\n",
       "city                                        \n",
       "Alvarezhaven                              31\n",
       "Alyssaberg                                26\n",
       "Anitamouth                                 9\n",
       "Antoniomouth                              22\n",
       "Aprilchester                              19"
      ]
     },
     "execution_count": 40,
     "metadata": {},
     "output_type": "execute_result"
    }
   ],
   "source": [
    "#calculate total # of rides\n",
    "ride_sum = group_ride.count()\n",
    "\n",
    "ride_sum = ride_sum.drop([\"fare\",\"ride_id\"],axis=1)\n",
    "ride_sum=ride_sum.rename(columns={\"date\":\"Total Number of Rides Per City\"})\n",
    "ride_sum.head()"
   ]
  },
  {
   "cell_type": "code",
   "execution_count": 63,
   "metadata": {},
   "outputs": [],
   "source": [
    "city_data = city_data.rename(columns={\"driver_count\": \"Total Number of Drivers Per City\"})"
   ]
  },
  {
   "cell_type": "code",
   "execution_count": 64,
   "metadata": {},
   "outputs": [
    {
     "data": {
      "text/html": [
       "<div>\n",
       "<style>\n",
       "    .dataframe thead tr:only-child th {\n",
       "        text-align: right;\n",
       "    }\n",
       "\n",
       "    .dataframe thead th {\n",
       "        text-align: left;\n",
       "    }\n",
       "\n",
       "    .dataframe tbody tr th {\n",
       "        vertical-align: top;\n",
       "    }\n",
       "</style>\n",
       "<table border=\"1\" class=\"dataframe\">\n",
       "  <thead>\n",
       "    <tr style=\"text-align: right;\">\n",
       "      <th></th>\n",
       "      <th>city</th>\n",
       "      <th>Average Fare($) Per City</th>\n",
       "      <th>Total Number of Rides Per City</th>\n",
       "      <th>Total Number of Drivers Per City</th>\n",
       "      <th>type</th>\n",
       "    </tr>\n",
       "  </thead>\n",
       "  <tbody>\n",
       "    <tr>\n",
       "      <th>0</th>\n",
       "      <td>Alvarezhaven</td>\n",
       "      <td>23.928710</td>\n",
       "      <td>31</td>\n",
       "      <td>21</td>\n",
       "      <td>Urban</td>\n",
       "    </tr>\n",
       "    <tr>\n",
       "      <th>1</th>\n",
       "      <td>Alyssaberg</td>\n",
       "      <td>20.609615</td>\n",
       "      <td>26</td>\n",
       "      <td>67</td>\n",
       "      <td>Urban</td>\n",
       "    </tr>\n",
       "    <tr>\n",
       "      <th>2</th>\n",
       "      <td>Anitamouth</td>\n",
       "      <td>37.315556</td>\n",
       "      <td>9</td>\n",
       "      <td>16</td>\n",
       "      <td>Suburban</td>\n",
       "    </tr>\n",
       "    <tr>\n",
       "      <th>3</th>\n",
       "      <td>Antoniomouth</td>\n",
       "      <td>23.625000</td>\n",
       "      <td>22</td>\n",
       "      <td>21</td>\n",
       "      <td>Urban</td>\n",
       "    </tr>\n",
       "    <tr>\n",
       "      <th>4</th>\n",
       "      <td>Aprilchester</td>\n",
       "      <td>21.981579</td>\n",
       "      <td>19</td>\n",
       "      <td>49</td>\n",
       "      <td>Urban</td>\n",
       "    </tr>\n",
       "  </tbody>\n",
       "</table>\n",
       "</div>"
      ],
      "text/plain": [
       "           city  Average Fare($) Per City  Total Number of Rides Per City  \\\n",
       "0  Alvarezhaven                 23.928710                              31   \n",
       "1    Alyssaberg                 20.609615                              26   \n",
       "2    Anitamouth                 37.315556                               9   \n",
       "3  Antoniomouth                 23.625000                              22   \n",
       "4  Aprilchester                 21.981579                              19   \n",
       "\n",
       "   Total Number of Drivers Per City      type  \n",
       "0                                21     Urban  \n",
       "1                                67     Urban  \n",
       "2                                16  Suburban  \n",
       "3                                21     Urban  \n",
       "4                                49     Urban  "
      ]
     },
     "execution_count": 64,
     "metadata": {},
     "output_type": "execute_result"
    }
   ],
   "source": [
    "bubble_table = pd.merge(fare_mean, ride_sum, left_index=True, right_index=True).reset_index()\n",
    "bubble_table= bubble_table.merge(city_data,how='left',left_on=\"city\",right_on=\"city\")\n",
    "bubble_table.head()"
   ]
  },
  {
   "cell_type": "code",
   "execution_count": 73,
   "metadata": {
    "collapsed": true
   },
   "outputs": [],
   "source": [
    "bubble_table[\"type\"]=pd.Categorical(bubble_table[\"type\"])"
   ]
  },
  {
   "cell_type": "code",
   "execution_count": 92,
   "metadata": {},
   "outputs": [
    {
     "data": {
      "image/png": "[encoded data removed]",
      "text/plain": [
       "<matplotlib.figure.Figure at 0x21643fafb00>"
      ]
     },
     "metadata": {},
     "output_type": "display_data"
    }
   ],
   "source": [
    "plt.scatter(bubble_table[\"Total Number of Rides Per City\"],bubble_table[\"Average Fare($) Per City\"],\n",
    "                        bubble_table[\"Total Number of Drivers Per City\"], c=bubble_table[\"type\"].cat.codes,cmap=\"Set1\",alpha=0.4, edgecolors=\"black\",linewidth=0.5)\n",
    "\n",
    "#prettify\n",
    "plt.xlabel(\"Total Number of Rides Per City\")\n",
    "plt.ylabel(\"Average Fare($) Per City\")\n",
    "plt.title(\"Pyber Ride Sharing Data(2016)\")\n",
    "plt.show()"
   ]
  },
  {
   "cell_type": "code",
   "execution_count": null,
   "metadata": {
    "collapsed": true
   },
   "outputs": [],
   "source": [
    "#City Type\n",
    "city_type = city_data.groupby(\"type\")"
   ]
  }
 ],
 "metadata": {
  "kernelspec": {
   "display_name": "Python 3",
   "language": "python",
   "name": "python3"
  },
  "language_info": {
   "codemirror_mode": {
    "name": "ipython",
    "version": 3
   },
   "file_extension": ".py",
   "mimetype": "text/x-python",
   "name": "python",
   "nbconvert_exporter": "python",
   "pygments_lexer": "ipython3",
   "version": "3.6.3"
  }
 },
 "nbformat": 4,
 "nbformat_minor": 2
}
