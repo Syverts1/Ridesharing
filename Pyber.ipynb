{
 "cells": [
  {
   "cell_type": "code",
   "execution_count": 71,
   "metadata": {
    "collapsed": true
   },
   "outputs": [],
   "source": [
    "#Dependencies\n",
    "import os\n",
    "import seaborn as sns\n",
    "import pandas as pd\n",
    "import numpy as np\n",
    "import matplotlib.pyplot as plt"
   ]
  },
  {
   "cell_type": "code",
   "execution_count": 72,
   "metadata": {
    "collapsed": true
   },
   "outputs": [],
   "source": [
    "#set csv paths\n",
    "city_csv= os.path.join(\"Resources\",\"city_data.csv\")\n",
    "ride_csv= os.path.join(\"Resources\",\"ride_data.csv\")"
   ]
  },
  {
   "cell_type": "code",
   "execution_count": 73,
   "metadata": {},
   "outputs": [
    {
     "name": "stdout",
     "output_type": "stream",
     "text": [
      "             city  driver_count   type\n",
      "0      Kelseyland            63  Urban\n",
      "1      Nguyenbury             8  Urban\n",
      "2    East Douglas            12  Urban\n",
      "3   West Dawnfurt            34  Urban\n",
      "4  Rodriguezburgh            52  Urban\n",
      "          city                 date   fare        ride_id\n",
      "0     Sarabury  2016-01-16 13:49:27  38.35  5403689035038\n",
      "1    South Roy  2016-01-02 18:42:34  17.49  4036272335942\n",
      "2  Wiseborough  2016-01-21 17:35:29  44.18  3645042422587\n",
      "3  Spencertown  2016-07-31 14:53:22   6.87  2242596575892\n",
      "4   Nguyenbury  2016-07-09 04:42:44   6.28  1543057793673\n"
     ]
    }
   ],
   "source": [
    "#read csvs\n",
    "city_data = pd.read_csv(city_csv)\n",
    "print(city_data.head())\n",
    "\n",
    "ride_data= pd.read_csv(ride_csv)\n",
    "print(ride_data.head())"
   ]
  },
  {
   "cell_type": "code",
   "execution_count": 74,
   "metadata": {},
   "outputs": [
    {
     "data": {
      "text/plain": [
       "Index(['fare', 'ride_id'], dtype='object')"
      ]
     },
     "execution_count": 74,
     "metadata": {},
     "output_type": "execute_result"
    }
   ],
   "source": [
    "group_ride = ride_data.groupby(\"city\")\n",
    "\n",
    "#find average fare\n",
    "fare_mean = group_ride.mean()\n",
    "fare_mean.columns"
   ]
  },
  {
   "cell_type": "code",
   "execution_count": 75,
   "metadata": {},
   "outputs": [
    {
     "data": {
      "text/html": [
       "<div>\n",
       "<style>\n",
       "    .dataframe thead tr:only-child th {\n",
       "        text-align: right;\n",
       "    }\n",
       "\n",
       "    .dataframe thead th {\n",
       "        text-align: left;\n",
       "    }\n",
       "\n",
       "    .dataframe tbody tr th {\n",
       "        vertical-align: top;\n",
       "    }\n",
       "</style>\n",
       "<table border=\"1\" class=\"dataframe\">\n",
       "  <thead>\n",
       "    <tr style=\"text-align: right;\">\n",
       "      <th></th>\n",
       "      <th>Average Fare($) Per City</th>\n",
       "    </tr>\n",
       "    <tr>\n",
       "      <th>city</th>\n",
       "      <th></th>\n",
       "    </tr>\n",
       "  </thead>\n",
       "  <tbody>\n",
       "    <tr>\n",
       "      <th>Alvarezhaven</th>\n",
       "      <td>23.928710</td>\n",
       "    </tr>\n",
       "    <tr>\n",
       "      <th>Alyssaberg</th>\n",
       "      <td>20.609615</td>\n",
       "    </tr>\n",
       "    <tr>\n",
       "      <th>Anitamouth</th>\n",
       "      <td>37.315556</td>\n",
       "    </tr>\n",
       "    <tr>\n",
       "      <th>Antoniomouth</th>\n",
       "      <td>23.625000</td>\n",
       "    </tr>\n",
       "    <tr>\n",
       "      <th>Aprilchester</th>\n",
       "      <td>21.981579</td>\n",
       "    </tr>\n",
       "  </tbody>\n",
       "</table>\n",
       "</div>"
      ],
      "text/plain": [
       "              Average Fare($) Per City\n",
       "city                                  \n",
       "Alvarezhaven                 23.928710\n",
       "Alyssaberg                   20.609615\n",
       "Anitamouth                   37.315556\n",
       "Antoniomouth                 23.625000\n",
       "Aprilchester                 21.981579"
      ]
     },
     "execution_count": 75,
     "metadata": {},
     "output_type": "execute_result"
    }
   ],
   "source": [
    "#display average fare\n",
    "fare_mean = fare_mean.drop([\"ride_id\"],axis=1)\n",
    "fare_mean=fare_mean.rename(columns={'fare':'Average Fare($) Per City'})\n",
    "fare_mean.head()"
   ]
  },
  {
   "cell_type": "code",
   "execution_count": 76,
   "metadata": {},
   "outputs": [
    {
     "data": {
      "text/html": [
       "<div>\n",
       "<style>\n",
       "    .dataframe thead tr:only-child th {\n",
       "        text-align: right;\n",
       "    }\n",
       "\n",
       "    .dataframe thead th {\n",
       "        text-align: left;\n",
       "    }\n",
       "\n",
       "    .dataframe tbody tr th {\n",
       "        vertical-align: top;\n",
       "    }\n",
       "</style>\n",
       "<table border=\"1\" class=\"dataframe\">\n",
       "  <thead>\n",
       "    <tr style=\"text-align: right;\">\n",
       "      <th></th>\n",
       "      <th>Total Number of Rides Per City</th>\n",
       "    </tr>\n",
       "    <tr>\n",
       "      <th>city</th>\n",
       "      <th></th>\n",
       "    </tr>\n",
       "  </thead>\n",
       "  <tbody>\n",
       "    <tr>\n",
       "      <th>Alvarezhaven</th>\n",
       "      <td>31</td>\n",
       "    </tr>\n",
       "    <tr>\n",
       "      <th>Alyssaberg</th>\n",
       "      <td>26</td>\n",
       "    </tr>\n",
       "    <tr>\n",
       "      <th>Anitamouth</th>\n",
       "      <td>9</td>\n",
       "    </tr>\n",
       "    <tr>\n",
       "      <th>Antoniomouth</th>\n",
       "      <td>22</td>\n",
       "    </tr>\n",
       "    <tr>\n",
       "      <th>Aprilchester</th>\n",
       "      <td>19</td>\n",
       "    </tr>\n",
       "  </tbody>\n",
       "</table>\n",
       "</div>"
      ],
      "text/plain": [
       "              Total Number of Rides Per City\n",
       "city                                        \n",
       "Alvarezhaven                              31\n",
       "Alyssaberg                                26\n",
       "Anitamouth                                 9\n",
       "Antoniomouth                              22\n",
       "Aprilchester                              19"
      ]
     },
     "execution_count": 76,
     "metadata": {},
     "output_type": "execute_result"
    }
   ],
   "source": [
    "#calculate total # of rides\n",
    "ride_sum = group_ride.count()\n",
    "\n",
    "ride_sum = ride_sum.drop([\"fare\",\"ride_id\"],axis=1)\n",
    "ride_sum=ride_sum.rename(columns={\"date\":\"Total Number of Rides Per City\"})\n",
    "ride_sum.head()"
   ]
  },
  {
   "cell_type": "code",
   "execution_count": 91,
   "metadata": {},
   "outputs": [
    {
     "data": {
      "text/html": [
       "<div>\n",
       "<style>\n",
       "    .dataframe thead tr:only-child th {\n",
       "        text-align: right;\n",
       "    }\n",
       "\n",
       "    .dataframe thead th {\n",
       "        text-align: left;\n",
       "    }\n",
       "\n",
       "    .dataframe tbody tr th {\n",
       "        vertical-align: top;\n",
       "    }\n",
       "</style>\n",
       "<table border=\"1\" class=\"dataframe\">\n",
       "  <thead>\n",
       "    <tr style=\"text-align: right;\">\n",
       "      <th></th>\n",
       "      <th>city</th>\n",
       "      <th>Total Number of Drivers Per City</th>\n",
       "      <th>type</th>\n",
       "    </tr>\n",
       "  </thead>\n",
       "  <tbody>\n",
       "    <tr>\n",
       "      <th>0</th>\n",
       "      <td>Alvarezhaven</td>\n",
       "      <td>21</td>\n",
       "      <td>Urban</td>\n",
       "    </tr>\n",
       "    <tr>\n",
       "      <th>1</th>\n",
       "      <td>Alyssaberg</td>\n",
       "      <td>67</td>\n",
       "      <td>Urban</td>\n",
       "    </tr>\n",
       "    <tr>\n",
       "      <th>2</th>\n",
       "      <td>Anitamouth</td>\n",
       "      <td>16</td>\n",
       "      <td>Suburban</td>\n",
       "    </tr>\n",
       "    <tr>\n",
       "      <th>3</th>\n",
       "      <td>Antoniomouth</td>\n",
       "      <td>21</td>\n",
       "      <td>Urban</td>\n",
       "    </tr>\n",
       "    <tr>\n",
       "      <th>4</th>\n",
       "      <td>Aprilchester</td>\n",
       "      <td>49</td>\n",
       "      <td>Urban</td>\n",
       "    </tr>\n",
       "  </tbody>\n",
       "</table>\n",
       "</div>"
      ],
      "text/plain": [
       "           city  Total Number of Drivers Per City      type\n",
       "0  Alvarezhaven                                21     Urban\n",
       "1    Alyssaberg                                67     Urban\n",
       "2    Anitamouth                                16  Suburban\n",
       "3  Antoniomouth                                21     Urban\n",
       "4  Aprilchester                                49     Urban"
      ]
     },
     "execution_count": 91,
     "metadata": {},
     "output_type": "execute_result"
    }
   ],
   "source": [
    "#create a new table, showing the total # of drivers per city\n",
    "city_grouping = city_data.groupby(\"city\").sum()\n",
    "city_grouping= city_grouping.reset_index()\n",
    "city_drop = city_data.drop([\"driver_count\"],axis=1)\n",
    "\n",
    "city_group = city_grouping.merge(city_drop, how='left',left_on='city',right_on='city')\n",
    "city_group=city_group.rename(columns={\"driver_count\":\"Total Number of Drivers Per City\"})\n",
    "\n",
    "city_group.head()"
   ]
  },
  {
   "cell_type": "code",
   "execution_count": 78,
   "metadata": {},
   "outputs": [
    {
     "data": {
      "text/html": [
       "<div>\n",
       "<style>\n",
       "    .dataframe thead tr:only-child th {\n",
       "        text-align: right;\n",
       "    }\n",
       "\n",
       "    .dataframe thead th {\n",
       "        text-align: left;\n",
       "    }\n",
       "\n",
       "    .dataframe tbody tr th {\n",
       "        vertical-align: top;\n",
       "    }\n",
       "</style>\n",
       "<table border=\"1\" class=\"dataframe\">\n",
       "  <thead>\n",
       "    <tr style=\"text-align: right;\">\n",
       "      <th></th>\n",
       "      <th>city</th>\n",
       "      <th>Average Fare($) Per City</th>\n",
       "      <th>Total Number of Rides Per City</th>\n",
       "      <th>Total Number of Drivers Per City</th>\n",
       "      <th>type</th>\n",
       "    </tr>\n",
       "  </thead>\n",
       "  <tbody>\n",
       "    <tr>\n",
       "      <th>0</th>\n",
       "      <td>Alvarezhaven</td>\n",
       "      <td>23.928710</td>\n",
       "      <td>31</td>\n",
       "      <td>21</td>\n",
       "      <td>Urban</td>\n",
       "    </tr>\n",
       "    <tr>\n",
       "      <th>1</th>\n",
       "      <td>Alyssaberg</td>\n",
       "      <td>20.609615</td>\n",
       "      <td>26</td>\n",
       "      <td>67</td>\n",
       "      <td>Urban</td>\n",
       "    </tr>\n",
       "    <tr>\n",
       "      <th>2</th>\n",
       "      <td>Anitamouth</td>\n",
       "      <td>37.315556</td>\n",
       "      <td>9</td>\n",
       "      <td>16</td>\n",
       "      <td>Suburban</td>\n",
       "    </tr>\n",
       "    <tr>\n",
       "      <th>3</th>\n",
       "      <td>Antoniomouth</td>\n",
       "      <td>23.625000</td>\n",
       "      <td>22</td>\n",
       "      <td>21</td>\n",
       "      <td>Urban</td>\n",
       "    </tr>\n",
       "    <tr>\n",
       "      <th>4</th>\n",
       "      <td>Aprilchester</td>\n",
       "      <td>21.981579</td>\n",
       "      <td>19</td>\n",
       "      <td>49</td>\n",
       "      <td>Urban</td>\n",
       "    </tr>\n",
       "  </tbody>\n",
       "</table>\n",
       "</div>"
      ],
      "text/plain": [
       "           city  Average Fare($) Per City  Total Number of Rides Per City  \\\n",
       "0  Alvarezhaven                 23.928710                              31   \n",
       "1    Alyssaberg                 20.609615                              26   \n",
       "2    Anitamouth                 37.315556                               9   \n",
       "3  Antoniomouth                 23.625000                              22   \n",
       "4  Aprilchester                 21.981579                              19   \n",
       "\n",
       "   Total Number of Drivers Per City      type  \n",
       "0                                21     Urban  \n",
       "1                                67     Urban  \n",
       "2                                16  Suburban  \n",
       "3                                21     Urban  \n",
       "4                                49     Urban  "
      ]
     },
     "execution_count": 78,
     "metadata": {},
     "output_type": "execute_result"
    }
   ],
   "source": [
    "#merge calculated tables into one place\n",
    "bubble_table = pd.merge(fare_mean, ride_sum, left_index=True, right_index=True).reset_index()\n",
    "\n",
    "bubble_table= bubble_table.merge(city_group,how='left',left_on=\"city\",right_on=\"city\")\n",
    "bubble_table.head()"
   ]
  },
  {
   "cell_type": "code",
   "execution_count": 79,
   "metadata": {},
   "outputs": [
    {
     "data": {
      "text/html": [
       "<div>\n",
       "<style>\n",
       "    .dataframe thead tr:only-child th {\n",
       "        text-align: right;\n",
       "    }\n",
       "\n",
       "    .dataframe thead th {\n",
       "        text-align: left;\n",
       "    }\n",
       "\n",
       "    .dataframe tbody tr th {\n",
       "        vertical-align: top;\n",
       "    }\n",
       "</style>\n",
       "<table border=\"1\" class=\"dataframe\">\n",
       "  <thead>\n",
       "    <tr style=\"text-align: right;\">\n",
       "      <th></th>\n",
       "      <th>city</th>\n",
       "      <th>Average Fare($) Per City</th>\n",
       "      <th>Total Number of Rides Per City</th>\n",
       "      <th>Total Number of Drivers Per City</th>\n",
       "      <th>type</th>\n",
       "    </tr>\n",
       "  </thead>\n",
       "  <tbody>\n",
       "    <tr>\n",
       "      <th>17</th>\n",
       "      <td>East Leslie</td>\n",
       "      <td>33.660909</td>\n",
       "      <td>11</td>\n",
       "      <td>9</td>\n",
       "      <td>Rural</td>\n",
       "    </tr>\n",
       "    <tr>\n",
       "      <th>18</th>\n",
       "      <td>East Stephen</td>\n",
       "      <td>39.053000</td>\n",
       "      <td>10</td>\n",
       "      <td>6</td>\n",
       "      <td>Rural</td>\n",
       "    </tr>\n",
       "    <tr>\n",
       "      <th>19</th>\n",
       "      <td>East Troybury</td>\n",
       "      <td>33.244286</td>\n",
       "      <td>7</td>\n",
       "      <td>3</td>\n",
       "      <td>Rural</td>\n",
       "    </tr>\n",
       "    <tr>\n",
       "      <th>21</th>\n",
       "      <td>Erikport</td>\n",
       "      <td>30.043750</td>\n",
       "      <td>8</td>\n",
       "      <td>3</td>\n",
       "      <td>Rural</td>\n",
       "    </tr>\n",
       "    <tr>\n",
       "      <th>25</th>\n",
       "      <td>Hernandezshire</td>\n",
       "      <td>32.002222</td>\n",
       "      <td>9</td>\n",
       "      <td>10</td>\n",
       "      <td>Rural</td>\n",
       "    </tr>\n",
       "  </tbody>\n",
       "</table>\n",
       "</div>"
      ],
      "text/plain": [
       "              city  Average Fare($) Per City  Total Number of Rides Per City  \\\n",
       "17     East Leslie                 33.660909                              11   \n",
       "18    East Stephen                 39.053000                              10   \n",
       "19   East Troybury                 33.244286                               7   \n",
       "21        Erikport                 30.043750                               8   \n",
       "25  Hernandezshire                 32.002222                               9   \n",
       "\n",
       "    Total Number of Drivers Per City   type  \n",
       "17                                 9  Rural  \n",
       "18                                 6  Rural  \n",
       "19                                 3  Rural  \n",
       "21                                 3  Rural  \n",
       "25                                10  Rural  "
      ]
     },
     "execution_count": 79,
     "metadata": {},
     "output_type": "execute_result"
    }
   ],
   "source": [
    "#create subchart of urban rides\n",
    "bubble_urban = bubble_table.loc[bubble_table[\"type\"] == \"Urban\"]\n",
    "bubble_urban.head()\n",
    "\n",
    "#create subchart of suburban rides\n",
    "bubble_suburban = bubble_table.loc[bubble_table[\"type\"] == \"Suburban\"]\n",
    "bubble_suburban.head()\n",
    "\n",
    "#create subchart of rural rides\n",
    "bubble_rural = bubble_table.loc[bubble_table[\"type\"] == \"Rural\"]\n",
    "bubble_rural.head()"
   ]
  },
  {
   "cell_type": "code",
   "execution_count": 89,
   "metadata": {},
   "outputs": [
    {
     "data": {
      "image/png": "[encoded data removed]",
      "text/plain": [
       "<matplotlib.figure.Figure at 0x1d1e2f77160>"
      ]
     },
     "metadata": {},
     "output_type": "display_data"
    }
   ],
   "source": [
    "#plot scatter of urban rides\n",
    "plt.scatter(bubble_urban[\"Total Number of Rides Per City\"],bubble_urban[\"Average Fare($) Per City\"],\n",
    "            bubble_urban[\"Total Number of Drivers Per City\"], c=\"red\", label=\"Urban\",linewidths=1,edgecolors=\"black\")\n",
    "\n",
    "#plot scatter of suburban rides\n",
    "plt.scatter(bubble_suburban[\"Total Number of Rides Per City\"],bubble_suburban[\"Average Fare($) Per City\"],\n",
    "            bubble_suburban[\"Total Number of Drivers Per City\"], c=\"blue\", label=\"Suburban\",linewidths=.7,edgecolors=\"black\")\n",
    "\n",
    "#plot scatter of rural rides\n",
    "plt.scatter(bubble_rural[\"Total Number of Rides Per City\"],bubble_rural[\"Average Fare($) Per City\"],\n",
    "            bubble_rural[\"Total Number of Drivers Per City\"], c=\"green\", label=\"Rural\",linewidths=.7,edgecolors=\"black\")\n",
    "\n",
    "#prettify\n",
    "plt.xlabel(\"Total Number of Rides Per City\")\n",
    "plt.ylabel(\"Average Fare($) Per City\")\n",
    "plt.legend()\n",
    "plt.title(\"Pyber Ride Sharing Data(2016)\")\n",
    "plt.show()"
   ]
  },
  {
   "cell_type": "code",
   "execution_count": 81,
   "metadata": {},
   "outputs": [
    {
     "ename": "SyntaxError",
     "evalue": "invalid syntax (<ipython-input-81-fdc9826bdfd1>, line 2)",
     "output_type": "error",
     "traceback": [
      "\u001b[1;36m  File \u001b[1;32m\"<ipython-input-81-fdc9826bdfd1>\"\u001b[1;36m, line \u001b[1;32m2\u001b[0m\n\u001b[1;33m    plt.\u001b[0m\n\u001b[1;37m        ^\u001b[0m\n\u001b[1;31mSyntaxError\u001b[0m\u001b[1;31m:\u001b[0m invalid syntax\n"
     ]
    }
   ],
   "source": [
    "#City Type\n",
    "plt."
   ]
  },
  {
   "cell_type": "code",
   "execution_count": null,
   "metadata": {
    "collapsed": true
   },
   "outputs": [],
   "source": []
  }
 ],
 "metadata": {
  "kernelspec": {
   "display_name": "Python 3",
   "language": "python",
   "name": "python3"
  },
  "language_info": {
   "codemirror_mode": {
    "name": "ipython",
    "version": 3
   },
   "file_extension": ".py",
   "mimetype": "text/x-python",
   "name": "python",
   "nbconvert_exporter": "python",
   "pygments_lexer": "ipython3",
   "version": "3.6.3"
  }
 },
 "nbformat": 4,
 "nbformat_minor": 2
}
